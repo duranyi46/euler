{
 "cells": [
  {
   "cell_type": "code",
   "execution_count": 40,
   "id": "1b93f0a7-441d-412b-a83d-65d1f524b764",
   "metadata": {},
   "outputs": [
    {
     "data": {
      "text/plain": [
       "31875000"
      ]
     },
     "execution_count": 40,
     "metadata": {},
     "output_type": "execute_result"
    }
   ],
   "source": [
    "\"\"\" pythagorean triplets \"\"\"\n",
    "\n",
    "def pythagorean_triplet(max):\n",
    "    triplet = []\n",
    "    for a in range(1, max//3):\n",
    "        for b in range(a, max//2):\n",
    "            c = max - b - a\n",
    "            if a**2 + b**2 == c**2:\n",
    "                triplet.append([a,b,c])\n",
    "\n",
    "    return triplet\n",
    "    \n",
    "\n",
    "pythagorean_triplet(1000)\n",
    "\n",
    "a = 200*375*425\n",
    "a\n",
    "\n",
    "\n",
    "\n",
    "    \n"
   ]
  },
  {
   "cell_type": "code",
   "execution_count": null,
   "id": "4da7e4fe-690c-4b23-b56b-a8f38140a2de",
   "metadata": {},
   "outputs": [],
   "source": []
  }
 ],
 "metadata": {
  "kernelspec": {
   "display_name": "Python 3 (ipykernel)",
   "language": "python",
   "name": "python3"
  },
  "language_info": {
   "codemirror_mode": {
    "name": "ipython",
    "version": 3
   },
   "file_extension": ".py",
   "mimetype": "text/x-python",
   "name": "python",
   "nbconvert_exporter": "python",
   "pygments_lexer": "ipython3",
   "version": "3.11.7"
  }
 },
 "nbformat": 4,
 "nbformat_minor": 5
}
